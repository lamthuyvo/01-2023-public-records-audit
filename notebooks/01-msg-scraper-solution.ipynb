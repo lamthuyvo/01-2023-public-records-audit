{
 "cells": [
  {
   "cell_type": "markdown",
   "id": "b2cc1b48",
   "metadata": {},
   "source": [
    "## Message extraction from multiple `.msg` files\n",
    "\n",
    "This analysis extracts both meta data, such as sender, recipient or date, and information about the body of several emails provided through a freedom of information requests in `.msg` format. "
   ]
  },
  {
   "cell_type": "code",
   "execution_count": null,
   "id": "a8903b6b",
   "metadata": {},
   "outputs": [],
   "source": [
    "# —————— libraries that need to be installed, which you can do via pip ———————\n",
    "\n",
    "# import pdfplumber # to scrape pdfs, documentation: https://github.com/jsvine/pdfplumber\n",
    "import pandas as pd # to use pandas to process data\n",
    "import extract_msg # to extract messages\n",
    "\n",
    "# —————— libraries built into Python ———————\n",
    "import csv # to write and read csv\n",
    "import glob # to access file paths"
   ]
  },
  {
   "cell_type": "code",
   "execution_count": null,
   "id": "ad2a59c0",
   "metadata": {},
   "outputs": [],
   "source": [
    "folder_name =\"brookhaven\"\n",
    "\n",
    "paths = glob.glob(\"../data/\"+folder_name+\"/*.msg\")"
   ]
  },
  {
   "cell_type": "code",
   "execution_count": null,
   "id": "c3d27efb",
   "metadata": {},
   "outputs": [],
   "source": [
    "paths[0:5]"
   ]
  },
  {
   "cell_type": "markdown",
   "id": "fe630a6b",
   "metadata": {},
   "source": [
    "#### Extract data of messages based and structure into data\n",
    "- extract `subject`, `date`, `sender` and `body` using `extract_msg` tools\n",
    "- clean body (remove unicode symbols such as `\\u200c` and `t`\n",
    "- split body text into a list of information that repeats in each message\n"
   ]
  },
  {
   "cell_type": "markdown",
   "id": "d2a212f2",
   "metadata": {},
   "source": [
    "We will start by looking at one message:"
   ]
  },
  {
   "cell_type": "code",
   "execution_count": null,
   "id": "d2410401",
   "metadata": {},
   "outputs": [],
   "source": [
    "msg = extract_msg.openMsg(paths[0])\n",
    "print(msg)"
   ]
  },
  {
   "cell_type": "markdown",
   "id": "047b8581",
   "metadata": {},
   "source": [
    "Now we can use various methods from `msg-extractor` to examine the message, including:\n",
    "- `msg.subject`\n",
    "- `msg.date`\n",
    "- `msg.sender`\n",
    "- `msg.to`"
   ]
  },
  {
   "cell_type": "markdown",
   "id": "069198d6",
   "metadata": {},
   "source": [
    "The next two cells test extraction methods, meaning we will try to isolate ach part of the message into individual entries."
   ]
  },
  {
   "cell_type": "code",
   "execution_count": null,
   "id": "81a232c9",
   "metadata": {},
   "outputs": [],
   "source": [
    "msg = extract_msg.openMsg(paths[0])\n",
    "\n",
    "print(\n",
    "    msg.subject,\n",
    "    msg.date, \n",
    "    msg.sender,\n",
    "    msg.to,\n",
    "    msg.cc\n",
    "\n",
    ")"
   ]
  },
  {
   "cell_type": "markdown",
   "id": "6cd2fffd",
   "metadata": {},
   "source": [
    "The following cell prints the body text to understand what information is contained in each message."
   ]
  },
  {
   "cell_type": "code",
   "execution_count": null,
   "id": "59c2e2e0",
   "metadata": {},
   "outputs": [],
   "source": [
    "msg.body"
   ]
  },
  {
   "cell_type": "markdown",
   "id": "ba5a1e66",
   "metadata": {},
   "source": [
    "### Cleaning the body text and turning it into data\n",
    "This part takes the body of the message and structures them into categories that repeat in each message. WE do this by taking the text of the body and splitting it into a list of strings, each separated by a spacing (denoted as `\\r\\n`."
   ]
  },
  {
   "cell_type": "code",
   "execution_count": null,
   "id": "7e5a1cbe",
   "metadata": {},
   "outputs": [],
   "source": [
    "msg_body_clean = msg.body.replace(\"\\u200c\",\"\").replace(\"\\t\", \"\").replace(\"  \",\"\").strip()\n",
    "message_items = msg_body_clean.strip().split(\"\\r\\n\")"
   ]
  },
  {
   "cell_type": "code",
   "execution_count": null,
   "id": "011b2b44",
   "metadata": {},
   "outputs": [],
   "source": [
    "list(filter(None, message_items))"
   ]
  },
  {
   "cell_type": "code",
   "execution_count": null,
   "id": "62963baf",
   "metadata": {},
   "outputs": [],
   "source": [
    "message_items_clean  = list(filter(None, message_items))\n",
    "len(message_items_clean)"
   ]
  },
  {
   "cell_type": "code",
   "execution_count": null,
   "id": "a0f3ec6f",
   "metadata": {},
   "outputs": [],
   "source": [
    "{\n",
    "    \"body_title_top\"           : message_items_clean[0].replace(\"Post Titled: \",\"\").strip(),\n",
    "    \"body_link1_title\"         : message_items_clean[2].strip(),\n",
    "    \"body_post_classification\" : message_items_clean[3].strip(),\n",
    "    \"body_title\"               : message_items_clean[4].strip(),\n",
    "    \"body_date\"                : message_items_clean[5].strip(),\n",
    "    \"body_description\"         : message_items_clean[6].strip(),\n",
    "    \"body_link2_title\"         : message_items_clean[7].strip(),\n",
    "    \"body_link3_title\"         : message_items_clean[9].strip(),\n",
    "\n",
    "    \n",
    "    \n",
    "}"
   ]
  },
  {
   "cell_type": "code",
   "execution_count": null,
   "id": "c6b6b3d3",
   "metadata": {},
   "outputs": [],
   "source": [
    "msg_data = []\n",
    "for path in paths: \n",
    "    print(path)\n",
    "    # open file\n",
    "    msg = extract_msg.openMsg(path)\n",
    "    # clean the message body from tabs and other formatting and split it into a list of items based on spacing\n",
    "    msg_body_clean = msg.body.replace(\"\\u200c\",\"\").replace(\"\\t\", \"\").replace(\"  \",\"\").strip()\n",
    "    message_items = msg_body_clean.split(\"\\r\\n\")\n",
    "    message_items_clean  = list(filter(None, message_items))\n",
    "\n",
    "    \n",
    "    # make a data dictionary that holds all information\n",
    "    msg_info={\n",
    "        \"subject\"      : msg.subject,\n",
    "        \"date\"         : msg.date,\n",
    "        \"sender\"       : msg.sender,\n",
    "        \"to\"           : msg.to,\n",
    "        \"cc\"           : msg.cc,\n",
    "        \"body_title_top\"           : message_items_clean[0].replace(\"Post Titled: \",\"\").strip(),\n",
    "        \"body_link1_title\"         : message_items_clean[2].strip(),\n",
    "        \"body_post_classification\" : message_items_clean[3].strip(),\n",
    "        \"body_title\"               : message_items_clean[4].strip(),\n",
    "        \"body_date\"                : message_items_clean[5].strip(),\n",
    "        \"body_description\"         : message_items_clean[6].strip(),\n",
    "        \"body_link2_title\"         : message_items_clean[7].strip(),\n",
    "        \"body_link3_title\"         : message_items_clean[9].strip(),\n",
    "        \"body_full\"    : msg.body.replace(\"\\u200c\",\"\").replace(\"\\r\\n\",\"\").replace(\"\\t\",\"\"),\n",
    "         \"file_name\":  path\n",
    "    }\n",
    "    msg_data.append(msg_info)\n",
    "    \n"
   ]
  },
  {
   "cell_type": "code",
   "execution_count": null,
   "id": "a185a050",
   "metadata": {},
   "outputs": [],
   "source": [
    "msg_extracts = pd.DataFrame(msg_data)\n",
    "\n",
    "msg_extracts"
   ]
  },
  {
   "cell_type": "code",
   "execution_count": null,
   "id": "613567b7",
   "metadata": {},
   "outputs": [],
   "source": [
    "msg_extracts.to_csv(\"../output/msg_extracts.csv\", index=False)"
   ]
  },
  {
   "cell_type": "code",
   "execution_count": null,
   "id": "91530213",
   "metadata": {},
   "outputs": [],
   "source": []
  }
 ],
 "metadata": {
  "kernelspec": {
   "display_name": "Python 3 (ipykernel)",
   "language": "python",
   "name": "python3"
  },
  "language_info": {
   "codemirror_mode": {
    "name": "ipython",
    "version": 3
   },
   "file_extension": ".py",
   "mimetype": "text/x-python",
   "name": "python",
   "nbconvert_exporter": "python",
   "pygments_lexer": "ipython3",
   "version": "3.9.10"
  }
 },
 "nbformat": 4,
 "nbformat_minor": 5
}
